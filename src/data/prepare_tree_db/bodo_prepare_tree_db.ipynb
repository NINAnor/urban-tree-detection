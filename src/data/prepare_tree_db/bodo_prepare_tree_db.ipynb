{
 "cells": [
  {
   "attachments": {},
   "cell_type": "markdown",
   "metadata": {},
   "source": [
    "# Bodø | Preparation of the municipal tree database \n",
    "- author: Willeke A'Campo.\n",
    "- description: This scripts prepares the raw municipal tree data for input for analysis in accordance with the i-Tree Eco data scheme.\n",
    "- project: Trekroner "
   ]
  },
  {
   "attachments": {},
   "cell_type": "markdown",
   "metadata": {},
   "source": [
    "Tasks of the script:\n",
    "1. Create the database **bodo_in_situ_trees.gdb** using an XML schema (MANUAL)\n",
    "    - gdb_path: ```urban-treeDetection/data/%municipality%/interim/bodo_in_situ_trees.gdb```\n",
    "    - XML schema: ```data/municipality_in_situ_trees.gdb```\n",
    "2. Copy the  raw tree inventory data into ```bodo_in_situ_trees.gdb``` (MANUAL)\n",
    "3. Append the raw data into the empty layer ```stem_in_situ``` (MANUAL)\n",
    "    - use fieldmapping to rename and delete fields \n",
    "4. Classify Tree Taxon Data \n",
    "    - Reclassify using a look up dictionairy \n",
    "    - Look up: ```data/look_up_tables/takson_look_up.xlsx ```\n",
    "5. Export cleaned data to the GDB %municipality%_urban_trees.gdb"
   ]
  },
  {
   "attachments": {},
   "cell_type": "markdown",
   "metadata": {},
   "source": [
    "### Set-up"
   ]
  },
  {
   "cell_type": "code",
   "execution_count": 1,
   "metadata": {},
   "outputs": [],
   "source": [
    "# import  py-packages \n",
    "import os\n",
    "import logging \n",
    "import arcpy \n",
    "import pandas as pd\n",
    "\n",
    "# import local packages\n",
    "from src import (MUNICIPALITY, DATA_PATH, INTERIM_PATH, ADMIN_GDB, SPATIAL_REFERENCE, IN_SITU_TREES_GDB, URBAN_TREES_GDB)\n",
    "from src import logger\n",
    "from src import arcpy_utils as au"
   ]
  },
  {
   "cell_type": "code",
   "execution_count": null,
   "metadata": {},
   "outputs": [],
   "source": [
    "# configure logger\n",
    "logger.setup_logger(logfile=False)\n",
    "logging.info(f'Start preparing the tree database of {MUNICIPALITY}.')\n",
    "\n",
    "# print global project variables\n",
    "print(f'spatial_reference: {SPATIAL_REFERENCE}')\n",
    "print(f'data_path: {DATA_PATH}')\n",
    "print(f'interim_data_path: {INTERIM_PATH}')\n",
    "print(f'admin_data_path: {ADMIN_GDB}')\n",
    "\n",
    "# path to in_situ_trees filegdb\n",
    "print(f'in_situ_trees: {IN_SITU_TREES_GDB}')"
   ]
  },
  {
   "attachments": {},
   "cell_type": "markdown",
   "metadata": {},
   "source": [
    "### Create bodo_in_situ_trees.gdb"
   ]
  },
  {
   "cell_type": "code",
   "execution_count": null,
   "metadata": {},
   "outputs": [],
   "source": [
    "# TODO update data/muncipality_urban_trees_schema.xml\n",
    "# TODO create filgdb from schema"
   ]
  },
  {
   "attachments": {},
   "cell_type": "markdown",
   "metadata": {},
   "source": [
    "### Copy \"raw\" tree inventory into the gdb"
   ]
  },
  {
   "cell_type": "code",
   "execution_count": null,
   "metadata": {},
   "outputs": [],
   "source": [
    "# TODO copy "
   ]
  },
  {
   "attachments": {},
   "cell_type": "markdown",
   "metadata": {},
   "source": [
    "### Append raw data into the i-Tree Eco point layer: **stem_in_situ**"
   ]
  },
  {
   "cell_type": "code",
   "execution_count": null,
   "metadata": {},
   "outputs": [],
   "source": [
    "# TODO automate this is copy form ArcGIS PRO geoprocessing tool \n",
    "arcpy.management.Append(\n",
    "    inputs=\"ByTreBodø_lokal\",\n",
    "    target=\"treetop_in_situ\",\n",
    "    schema_type=\"NO_TEST\",\n",
    "    field_mapping='tree_id \"tree_id\" true true false 4 Long 0 0,First,#,ByTreBodø_lokal,OBJECTID,-1,-1;itree_species_code \"itree_species_code\" true true false 255 Text 0 0,First,#;norwegian_name \"norwegian_name\" true true false 255 Text 0 0,First,#,ByTreBodø_lokal,Treslag,0,25;taxon_name \"taxon_name\" true true false 255 Text 0 0,First,#;taxon_type \"taxon_type\" true true false 255 Text 0 0,First,#;english_name \"english_name\" true true false 255 Text 0 0,First,#;registration_date \"registration_date\" true true false 8 Date 0 0,First,#,ByTreBodø_lokal,Registreringsdato,-1,-1;address \"address\" true true false 255 Text 0 0,First,#,ByTreBodø_lokal,Sted,0,50;land_use \"land_use\" true true false 255 Text 0 0,First,#;dbh \"dbh\" true true false 0 Long 0 0,First,#,ByTreBodø_lokal,Omkrets,-1,-1;dbh_heigth \"dbh_heigth\" true true false 0 Long 0 0,First,#;dieback \"dieback\" true true false 2 Short 0 0,First,#;crown_missing \"crown_missing\" true true false 2 Short 0 0,First,#;crown_ligth_exposure \"crown_ligth_exposure\" true true false 2 Short 0 0,First,#;total_tree_heigth \"total_tree_heigth\" true true false 4 Float 0 0,First,#;live_tree_heigth \"live_tree_heigth\" true true false 4 Float 0 0,First,#;crown_base_heigth \"crown_base_heigth\" true true false 4 Float 0 0,First,#;lat \"lat\" true true false 8 Double 0 0,First,#;long \"long\" true true false 8 Double 0 0,First,#',\n",
    "    subtype=\"\",\n",
    "    expression=\"OBJECTID IS NOT NULL\",\n",
    "    match_fields=None,\n",
    "    update_geometry=\"NOT_UPDATE_GEOMETRY\"\n",
    ")"
   ]
  },
  {
   "attachments": {},
   "cell_type": "markdown",
   "metadata": {},
   "source": [
    "### Classify Tree Taxon data"
   ]
  },
  {
   "cell_type": "code",
   "execution_count": null,
   "metadata": {},
   "outputs": [],
   "source": [
    "# load the Excel file into a lookup dictionairy \n",
    "excel_path = os.path.join(DATA_PATH, \"lookup_tables\", \"takson_lookup.xlsx\")\n",
    "print(excel_path)\n",
    "\n",
    "df = pd.read_excel(excel_path)\n",
    "display(df.head())"
   ]
  },
  {
   "attachments": {},
   "cell_type": "markdown",
   "metadata": {},
   "source": [
    "Recalssify the columns taxon_name, taxon_type and english_name:"
   ]
  },
  {
   "cell_type": "code",
   "execution_count": null,
   "metadata": {},
   "outputs": [],
   "source": [
    "# set workspace and shapefile path\n",
    "arcpy.env.workspace = IN_SITU_TREES_GDB\n",
    "fc = \"stem_in_situ\"\n",
    "\n",
    "key = 'norwegian_name'\n",
    "values = ['english_name', 'taxon_name', 'taxon_type']\n",
    "\n",
    "for v in values:\n",
    "    lookup_dict = au.df_to_lookupDict(df, key, v)\n",
    "    field_to_check = key\n",
    "    field_to_modify = v\n",
    "\n",
    "    au.reclassify_row(fc, field_to_check, field_to_modify, lookup_dict)"
   ]
  },
  {
   "attachments": {},
   "cell_type": "markdown",
   "metadata": {},
   "source": [
    "### Usefull code snippets to clean the database"
   ]
  },
  {
   "cell_type": "code",
   "execution_count": null,
   "metadata": {},
   "outputs": [],
   "source": [
    "# TODO check if usefull and if yes move to arcpy_utils.py\n",
    "# set workspace and shapefile path\n",
    "arcpy.env.workspace = IN_SITU_TREES_GDB\n",
    "fc = \"stem_in_situ\"\n",
    "\n",
    "# Set local variables\n",
    "inFeatures = fc\n",
    "field_type = \"TEXT\"\n",
    "fieldName = ['norwegian_name', 'english_name', 'taxon_name', 'taxon_type']\n",
    "\n",
    "for name in fieldName:\n",
    "    # Run AddField twice for two new fields\n",
    "    arcpy.management.AddField(inFeatures, name, field_type,name, field_is_nullable=\"NULLABLE\")"
   ]
  }
 ],
 "metadata": {
  "kernelspec": {
   "display_name": "Python 3.7.11 ('arcgispro-py3-wac')",
   "language": "python",
   "name": "python3"
  },
  "language_info": {
   "codemirror_mode": {
    "name": "ipython",
    "version": 3
   },
   "file_extension": ".py",
   "mimetype": "text/x-python",
   "name": "python",
   "nbconvert_exporter": "python",
   "pygments_lexer": "ipython3",
   "version": "3.9.16"
  },
  "orig_nbformat": 4,
  "vscode": {
   "interpreter": {
    "hash": "bb7dd33ac9c885fe1234f3eb4941f14da61e9af3d755798103024168539c6fa3"
   }
  }
 },
 "nbformat": 4,
 "nbformat_minor": 2
}
