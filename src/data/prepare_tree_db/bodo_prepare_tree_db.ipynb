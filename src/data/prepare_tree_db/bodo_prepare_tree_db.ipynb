{
 "cells": [
  {
   "attachments": {},
   "cell_type": "markdown",
   "metadata": {},
   "source": [
    "# Bodø | Preparation of the municipal tree database \n",
    "- author: Willeke A'Campo.\n",
    "- description: This scripts prepares the raw municipal tree data for input for analysis in accordance with the i-Tree Eco data scheme.\n",
    "- project: Trekroner "
   ]
  },
  {
   "attachments": {},
   "cell_type": "markdown",
   "metadata": {},
   "source": [
    "Tasks of the script:\n",
    "1. Create the database **bodo_in_situ_trees.gdb** using an XML schema (MANUAL)\n",
    "    - gdb_path: ```urban-treeDetection/data/%municipality%/interim/bodo_in_situ_trees.gdb```\n",
    "    - XML schema: ```data/municipality_in_situ_trees.gdb```\n",
    "2. Copy the  raw tree inventory data into ```bodo_in_situ_trees.gdb``` (MANUAL)\n",
    "3. Append the raw data into the empty layer ```stem_in_situ``` (MANUAL)\n",
    "    - use fieldmapping to rename and delete fields \n",
    "4. Classify Tree Taxon Data \n",
    "    - Reclassify using a look up dictionairy \n",
    "    - Look up: ```data/look_up_tables/takson_look_up.xlsx ```"
   ]
  },
  {
   "attachments": {},
   "cell_type": "markdown",
   "metadata": {},
   "source": [
    "### Set-up"
   ]
  },
  {
   "cell_type": "code",
   "execution_count": 1,
   "metadata": {},
   "outputs": [],
   "source": [
    "# import  py-packages \n",
    "import os\n",
    "import logging \n",
    "import arcpy \n",
    "import pandas as pd\n",
    "\n",
    "# import local packages\n",
    "from src import setup_logger, reclassify_row, df_to_lookupDict\n",
    "from src import MUNICIPALITY, DATA_PATH, INTERIM_PATH, ADMIN_GDB_PATH"
   ]
  },
  {
   "cell_type": "code",
   "execution_count": 2,
   "metadata": {},
   "outputs": [
    {
     "name": "stdout",
     "output_type": "stream",
     "text": [
      "2023.05.10T16:25:52Z [DEBUG] src.utils.logger: Logging initialized\n",
      "2023.05.10T16:25:52Z [INFO] root: Start preparing the tree database of bodo.\n",
      "data_path: P:/152022_itree_eco_ifront_synliggjore_trars_rolle_i_okosyst/data/\n",
      "interim_data_path: P:/152022_itree_eco_ifront_synliggjore_trars_rolle_i_okosyst/data/bodo\\interim\n",
      "admin_data_path: P:/152022_itree_eco_ifront_synliggjore_trars_rolle_i_okosyst/data/bodo\\interim\\bodo_admin.gdb\n",
      "in_situ_trees: P:/152022_itree_eco_ifront_synliggjore_trars_rolle_i_okosyst/data/bodo\\interim\\bodo_in_situ_trees.gdb\n"
     ]
    }
   ],
   "source": [
    "# configure logger\n",
    "setup_logger(logfile=False)\n",
    "logging.info(f'Start preparing the tree database of {MUNICIPALITY}.')\n",
    "\n",
    "# print global project variables\n",
    "print(f'data_path: {DATA_PATH}')\n",
    "print(f'interim_data_path: {INTERIM_PATH}')\n",
    "print(f'admin_data_path: {ADMIN_GDB_PATH}')\n",
    "\n",
    "# path to in_situ_trees filegdb\n",
    "in_situ_trees_gdb = os.path.join(INTERIM_PATH, MUNICIPALITY + \"_in_situ_trees.gdb\")\n",
    "print(f'in_situ_trees: {in_situ_trees_gdb}')"
   ]
  },
  {
   "attachments": {},
   "cell_type": "markdown",
   "metadata": {},
   "source": [
    "### Create bodo_in_situ_trees.gdb"
   ]
  },
  {
   "cell_type": "code",
   "execution_count": null,
   "metadata": {},
   "outputs": [],
   "source": [
    "# TODO update data/muncipality_urban_trees_schema.xml\n",
    "# TODO create filgdb from schema"
   ]
  },
  {
   "attachments": {},
   "cell_type": "markdown",
   "metadata": {},
   "source": [
    "### Copy \"raw\" tree inventory into the gdb"
   ]
  },
  {
   "cell_type": "code",
   "execution_count": null,
   "metadata": {},
   "outputs": [],
   "source": [
    "# TODO copy "
   ]
  },
  {
   "attachments": {},
   "cell_type": "markdown",
   "metadata": {},
   "source": [
    "### Append raw data into the i-Tree Eco point layer: **stem_in_situ**"
   ]
  },
  {
   "cell_type": "code",
   "execution_count": null,
   "metadata": {},
   "outputs": [],
   "source": [
    "# TODO automate this is copy form ArcGIS PRO geoprocessing tool \n",
    "arcpy.management.Append(\n",
    "    inputs=\"ByTreBodø_lokal\",\n",
    "    target=\"treetop_in_situ\",\n",
    "    schema_type=\"NO_TEST\",\n",
    "    field_mapping='tree_id \"tree_id\" true true false 4 Long 0 0,First,#,ByTreBodø_lokal,OBJECTID,-1,-1;itree_species_code \"itree_species_code\" true true false 255 Text 0 0,First,#;norwegian_name \"norwegian_name\" true true false 255 Text 0 0,First,#,ByTreBodø_lokal,Treslag,0,25;taxon_name \"taxon_name\" true true false 255 Text 0 0,First,#;taxon_type \"taxon_type\" true true false 255 Text 0 0,First,#;english_name \"english_name\" true true false 255 Text 0 0,First,#;registration_date \"registration_date\" true true false 8 Date 0 0,First,#,ByTreBodø_lokal,Registreringsdato,-1,-1;address \"address\" true true false 255 Text 0 0,First,#,ByTreBodø_lokal,Sted,0,50;land_use \"land_use\" true true false 255 Text 0 0,First,#;dbh \"dbh\" true true false 0 Long 0 0,First,#,ByTreBodø_lokal,Omkrets,-1,-1;dbh_heigth \"dbh_heigth\" true true false 0 Long 0 0,First,#;dieback \"dieback\" true true false 2 Short 0 0,First,#;crown_missing \"crown_missing\" true true false 2 Short 0 0,First,#;crown_ligth_exposure \"crown_ligth_exposure\" true true false 2 Short 0 0,First,#;total_tree_heigth \"total_tree_heigth\" true true false 4 Float 0 0,First,#;live_tree_heigth \"live_tree_heigth\" true true false 4 Float 0 0,First,#;crown_base_heigth \"crown_base_heigth\" true true false 4 Float 0 0,First,#;lat \"lat\" true true false 8 Double 0 0,First,#;long \"long\" true true false 8 Double 0 0,First,#',\n",
    "    subtype=\"\",\n",
    "    expression=\"OBJECTID IS NOT NULL\",\n",
    "    match_fields=None,\n",
    "    update_geometry=\"NOT_UPDATE_GEOMETRY\"\n",
    ")"
   ]
  },
  {
   "attachments": {},
   "cell_type": "markdown",
   "metadata": {},
   "source": [
    "### Classify Tree Taxon data"
   ]
  },
  {
   "cell_type": "code",
   "execution_count": 3,
   "metadata": {},
   "outputs": [
    {
     "name": "stdout",
     "output_type": "stream",
     "text": [
      "P:/152022_itree_eco_ifront_synliggjore_trars_rolle_i_okosyst/data/lookup_tables\\takson_lookup.xlsx\n"
     ]
    },
    {
     "data": {
      "text/html": [
       "<div>\n",
       "<style scoped>\n",
       "    .dataframe tbody tr th:only-of-type {\n",
       "        vertical-align: middle;\n",
       "    }\n",
       "\n",
       "    .dataframe tbody tr th {\n",
       "        vertical-align: top;\n",
       "    }\n",
       "\n",
       "    .dataframe thead th {\n",
       "        text-align: right;\n",
       "    }\n",
       "</style>\n",
       "<table border=\"1\" class=\"dataframe\">\n",
       "  <thead>\n",
       "    <tr style=\"text-align: right;\">\n",
       "      <th></th>\n",
       "      <th>instruks</th>\n",
       "      <th>Kode</th>\n",
       "      <th>Naturtype</th>\n",
       "      <th>norwegian_name</th>\n",
       "      <th>taxon_name</th>\n",
       "      <th>taxon_type</th>\n",
       "      <th>english_name</th>\n",
       "    </tr>\n",
       "  </thead>\n",
       "  <tbody>\n",
       "    <tr>\n",
       "      <th>0</th>\n",
       "      <td>DN-håndbok 13</td>\n",
       "      <td>D12</td>\n",
       "      <td>storeGamleTrær</td>\n",
       "      <td>ikkeRegistrert</td>\n",
       "      <td>notRegistered</td>\n",
       "      <td>notRegistered</td>\n",
       "      <td>notRegistered</td>\n",
       "    </tr>\n",
       "    <tr>\n",
       "      <th>1</th>\n",
       "      <td>DN-håndbok 14</td>\n",
       "      <td>D1201</td>\n",
       "      <td>ikkeSkjøttetTre</td>\n",
       "      <td>ikkeRegistrert</td>\n",
       "      <td>notRegistered</td>\n",
       "      <td>notRegistered</td>\n",
       "      <td>notRegistered</td>\n",
       "    </tr>\n",
       "    <tr>\n",
       "      <th>2</th>\n",
       "      <td>DN-håndbok 15</td>\n",
       "      <td>D1202</td>\n",
       "      <td>skjøttetTre</td>\n",
       "      <td>ikkeRegistrert</td>\n",
       "      <td>notRegistered</td>\n",
       "      <td>notRegistered</td>\n",
       "      <td>notRegistered</td>\n",
       "    </tr>\n",
       "    <tr>\n",
       "      <th>3</th>\n",
       "      <td>DN-håndbok 16</td>\n",
       "      <td>D1203</td>\n",
       "      <td>hultTre</td>\n",
       "      <td>ikkeRegistrert</td>\n",
       "      <td>notRegistered</td>\n",
       "      <td>notRegistered</td>\n",
       "      <td>notRegistered</td>\n",
       "    </tr>\n",
       "    <tr>\n",
       "      <th>4</th>\n",
       "      <td>DN-håndbok 17</td>\n",
       "      <td>D1204</td>\n",
       "      <td>gammeltTre</td>\n",
       "      <td>ikkeRegistrert</td>\n",
       "      <td>notRegistered</td>\n",
       "      <td>notRegistered</td>\n",
       "      <td>notRegistered</td>\n",
       "    </tr>\n",
       "  </tbody>\n",
       "</table>\n",
       "</div>"
      ],
      "text/plain": [
       "        instruks   Kode        Naturtype  norwegian_name     taxon_name  \\\n",
       "0  DN-håndbok 13    D12   storeGamleTrær  ikkeRegistrert  notRegistered   \n",
       "1  DN-håndbok 14  D1201  ikkeSkjøttetTre  ikkeRegistrert  notRegistered   \n",
       "2  DN-håndbok 15  D1202      skjøttetTre  ikkeRegistrert  notRegistered   \n",
       "3  DN-håndbok 16  D1203          hultTre  ikkeRegistrert  notRegistered   \n",
       "4  DN-håndbok 17  D1204       gammeltTre  ikkeRegistrert  notRegistered   \n",
       "\n",
       "      taxon_type   english_name  \n",
       "0  notRegistered  notRegistered  \n",
       "1  notRegistered  notRegistered  \n",
       "2  notRegistered  notRegistered  \n",
       "3  notRegistered  notRegistered  \n",
       "4  notRegistered  notRegistered  "
      ]
     },
     "metadata": {},
     "output_type": "display_data"
    }
   ],
   "source": [
    "# load the Excel file into a lookup dictionairy \n",
    "excel_path = os.path.join(DATA_PATH, \"lookup_tables\", \"takson_lookup.xlsx\")\n",
    "print(excel_path)\n",
    "\n",
    "df = pd.read_excel(excel_path)\n",
    "display(df.head())"
   ]
  },
  {
   "attachments": {},
   "cell_type": "markdown",
   "metadata": {},
   "source": [
    "Recalssify the columns taxon_name, taxon_type and english_name:"
   ]
  },
  {
   "cell_type": "code",
   "execution_count": 4,
   "metadata": {},
   "outputs": [
    {
     "name": "stdout",
     "output_type": "stream",
     "text": [
      "The rows in <english_name> are reclassified.\n",
      "The rows in <taxon_name> are reclassified.\n",
      "The rows in <taxon_type> are reclassified.\n"
     ]
    }
   ],
   "source": [
    "# set workspace and shapefile path\n",
    "arcpy.env.workspace = in_situ_trees_gdb\n",
    "fc = \"stem_in_situ\"\n",
    "\n",
    "key = 'norwegian_name'\n",
    "values = ['english_name', 'taxon_name', 'taxon_type']\n",
    "\n",
    "for v in values:\n",
    "    lookup_dict = df_to_lookupDict(df, key, v)\n",
    "    field_to_check = key\n",
    "    field_to_modify = v\n",
    "\n",
    "    reclassify_row(fc, field_to_check, field_to_modify, lookup_dict)"
   ]
  },
  {
   "attachments": {},
   "cell_type": "markdown",
   "metadata": {},
   "source": [
    "### Usefull code snippets to clean the database"
   ]
  },
  {
   "cell_type": "code",
   "execution_count": null,
   "metadata": {},
   "outputs": [],
   "source": [
    "# TODO check if usefull and if yes move to arcpy_utils.py\n",
    "# set workspace and shapefile path\n",
    "arcpy.env.workspace = in_situ_trees_gdb\n",
    "fc = \"stem_in_situ\"\n",
    "\n",
    "# Set local variables\n",
    "inFeatures = fc\n",
    "field_type = \"TEXT\"\n",
    "fieldName = ['norwegian_name', 'english_name', 'taxon_name', 'taxon_type']\n",
    "\n",
    "for name in fieldName:\n",
    "    # Run AddField twice for two new fields\n",
    "    arcpy.management.AddField(inFeatures, name, field_type,name, field_is_nullable=\"NULLABLE\")"
   ]
  }
 ],
 "metadata": {
  "kernelspec": {
   "display_name": "Python 3.7.11 ('arcgispro-py3-wac')",
   "language": "python",
   "name": "python3"
  },
  "language_info": {
   "codemirror_mode": {
    "name": "ipython",
    "version": 3
   },
   "file_extension": ".py",
   "mimetype": "text/x-python",
   "name": "python",
   "nbconvert_exporter": "python",
   "pygments_lexer": "ipython3",
   "version": "3.9.16"
  },
  "orig_nbformat": 4,
  "vscode": {
   "interpreter": {
    "hash": "bb7dd33ac9c885fe1234f3eb4941f14da61e9af3d755798103024168539c6fa3"
   }
  }
 },
 "nbformat": 4,
 "nbformat_minor": 2
}
