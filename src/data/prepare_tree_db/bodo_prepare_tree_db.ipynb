{
 "cells": [
  {
   "attachments": {},
   "cell_type": "markdown",
   "metadata": {},
   "source": [
    "# Bodø | Preparation of the municipal tree database \n",
    "- author: Willeke A'Campo.\n",
    "- description: This scripts prepares the raw municipal tree data for input for analysis in accordance with the i-Tree Eco data scheme.\n",
    "- project: Trekroner "
   ]
  },
  {
   "attachments": {},
   "cell_type": "markdown",
   "metadata": {},
   "source": [
    "Tasks of the script:\n",
    "1. Create the database **bodo_in_situ_trees.gdb** using an XML schema (MANUAL)\n",
    "    - gdb_path: ```urban-treeDetection/data/%municipality%/interim/bodo_in_situ_trees.gdb```\n",
    "    - XML schema: ```data/municipality_in_situ_trees.gdb```\n",
    "2. Copy the  raw tree inventory data into ```bodo_in_situ_trees.gdb``` (MANUAL)\n",
    "3. Append the raw data into the empty layer ```stem_in_situ``` (MANUAL)\n",
    "    - use fieldmapping to rename and delete fields \n",
    "4. Classify Tree Taxon Data \n",
    "    - Reclassify using a look up dictionairy \n",
    "    - Look up: ```data/look_up_tables/takson_look_up.xlsx ```"
   ]
  },
  {
   "attachments": {},
   "cell_type": "markdown",
   "metadata": {},
   "source": [
    "### Set-up"
   ]
  },
  {
   "cell_type": "code",
   "execution_count": null,
   "metadata": {},
   "outputs": [],
   "source": [
    "\n",
    "# import  py-packages \n",
    "import os\n",
    "import logging \n",
    "import arcpy \n",
    "import pandas as pd\n",
    "\n",
    "# import local packages\n",
    "from src import setup_logger "
   ]
  },
  {
   "cell_type": "code",
   "execution_count": null,
   "metadata": {},
   "outputs": [],
   "source": [
    "# configure logger\n",
    "setup_logger(logfile=False)\n",
    "\n",
    "logging.info('Info message')\n"
   ]
  },
  {
   "cell_type": "code",
   "execution_count": null,
   "metadata": {},
   "outputs": [],
   "source": []
  },
  {
   "cell_type": "code",
   "execution_count": null,
   "metadata": {},
   "outputs": [],
   "source": [
    "#configure log file\n",
    "log_file = os.path.join(log_path, kommune + \"_prepare_tree_db\" + \".log\"  )\n",
    "logger = configure_logger(log_file=log_file, set_level= \"INFO\")\n",
    "logger.info(f\"Municipality is set to '{kommune}'.\")"
   ]
  },
  {
   "cell_type": "code",
   "execution_count": null,
   "metadata": {},
   "outputs": [],
   "source": [
    "# print global project variables\n",
    "print(f'raw_data_path: {raw_data_path}')\n",
    "print(f'interim_data_path: {interim_data_path}')\n",
    "print(f'processed_data_path: {processed_data_path}')\n",
    "print(f'admin_data_path: {admin_data_path}')"
   ]
  },
  {
   "cell_type": "code",
   "execution_count": null,
   "metadata": {},
   "outputs": [],
   "source": [
    "in_situ_trees = os.path.join(interim_data_path, kommune + \"_in_situ_trees.gdb\")\n",
    "print(f'in_situ_trees: {in_situ_trees}')"
   ]
  },
  {
   "cell_type": "code",
   "execution_count": null,
   "metadata": {},
   "outputs": [],
   "source": [
    "## APPEND \n",
    "arcpy.management.Append(\n",
    "    inputs=\"ByTreBodø_lokal\",\n",
    "    target=\"treetop_in_situ\",\n",
    "    schema_type=\"NO_TEST\",\n",
    "    field_mapping='tree_id \"tree_id\" true true false 4 Long 0 0,First,#,ByTreBodø_lokal,OBJECTID,-1,-1;itree_species_code \"itree_species_code\" true true false 255 Text 0 0,First,#;norwegian_name \"norwegian_name\" true true false 255 Text 0 0,First,#,ByTreBodø_lokal,Treslag,0,25;taxon_name \"taxon_name\" true true false 255 Text 0 0,First,#;taxon_type \"taxon_type\" true true false 255 Text 0 0,First,#;english_name \"english_name\" true true false 255 Text 0 0,First,#;registration_date \"registration_date\" true true false 8 Date 0 0,First,#,ByTreBodø_lokal,Registreringsdato,-1,-1;address \"address\" true true false 255 Text 0 0,First,#,ByTreBodø_lokal,Sted,0,50;land_use \"land_use\" true true false 255 Text 0 0,First,#;dbh \"dbh\" true true false 0 Long 0 0,First,#,ByTreBodø_lokal,Omkrets,-1,-1;dbh_heigth \"dbh_heigth\" true true false 0 Long 0 0,First,#;dieback \"dieback\" true true false 2 Short 0 0,First,#;crown_missing \"crown_missing\" true true false 2 Short 0 0,First,#;crown_ligth_exposure \"crown_ligth_exposure\" true true false 2 Short 0 0,First,#;total_tree_heigth \"total_tree_heigth\" true true false 4 Float 0 0,First,#;live_tree_heigth \"live_tree_heigth\" true true false 4 Float 0 0,First,#;crown_base_heigth \"crown_base_heigth\" true true false 4 Float 0 0,First,#;lat \"lat\" true true false 8 Double 0 0,First,#;long \"long\" true true false 8 Double 0 0,First,#',\n",
    "    subtype=\"\",\n",
    "    expression=\"OBJECTID IS NOT NULL\",\n",
    "    match_fields=None,\n",
    "    update_geometry=\"NOT_UPDATE_GEOMETRY\"\n",
    ")"
   ]
  },
  {
   "attachments": {},
   "cell_type": "markdown",
   "metadata": {},
   "source": [
    "### Import Data "
   ]
  },
  {
   "cell_type": "code",
   "execution_count": null,
   "metadata": {},
   "outputs": [],
   "source": [
    "# load the Excel file into a lookup dictionairy \n",
    "excel_path = os.path.join(interim_data_path, 'lookUp.xlsx')\n",
    "df = pd.read_excel(excel_path)\n",
    "display(df.head())\n",
    "\n",
    "lookup_dict= {}\n",
    "for index, row in df.iterrows():\n",
    "    #lookup_dict[row['Naturtype']] = row['taksonNorskNavn']\n",
    "    lookup_dict[row['taksonNorskNavn']] = row['taksonNorskNavn_2']"
   ]
  },
  {
   "cell_type": "code",
   "execution_count": null,
   "metadata": {},
   "outputs": [],
   "source": [
    "# set workspace and shapefile path\n",
    "arcpy.env.workspace = tree_data_path\n",
    "fc = \"registert_tre\"\n",
    "\n",
    "# Set local variables\n",
    "inFeatures = fc\n",
    "field_type = \"TEXT\"\n",
    "fieldName = [\"taksonNorskNavn\",\"taksonVitNavn\", \"taksonType\",\"taksonEngelskNavn\"]\n",
    "\n",
    "for name in fieldName:\n",
    "    # Run AddField twice for two new fields\n",
    "    arcpy.management.AddField(inFeatures, name, field_type,name, field_is_nullable=\"NULLABLE\")\n",
    "\n"
   ]
  },
  {
   "cell_type": "code",
   "execution_count": null,
   "metadata": {},
   "outputs": [],
   "source": [
    "# set workspace and shapefile path\n",
    "arcpy.env.workspace = tree_data_path\n",
    "fc = \"registert_tre\"\n",
    "\n",
    "\n",
    "\n",
    "# specify the field to be modified\n",
    "field_to_modify = \"taksonNorskNavn\"\n",
    "\n",
    "# create an update cursor to modify the values in the field\n",
    "with arcpy.da.UpdateCursor(fc, [field_to_modify]) as cursor:\n",
    "    for row in cursor:\n",
    "        # check the current value of the field and update it to the value from the lookup table\n",
    "        if row[0] in lookup_dict:\n",
    "            print(f\"Reclassify value <<{row[0]}>> to value <<{lookup_dict[row[0]]}>>..\") \n",
    "            row[0] = lookup_dict[row[0]]\n",
    "        #if row[0] is None:\n",
    "            #row[0] = \"eik\"\n",
    "            \n",
    "\n",
    "        cursor.updateRow(row)\n",
    "        #break\n",
    "\n",
    "# print a message indicating the update is complete\n",
    "print(\"Field values have been reclassified using the lookup table.\")\n"
   ]
  }
 ],
 "metadata": {
  "kernelspec": {
   "display_name": "Python 3.7.11 ('arcgispro-py3-wac')",
   "language": "python",
   "name": "python3"
  },
  "language_info": {
   "codemirror_mode": {
    "name": "ipython",
    "version": 3
   },
   "file_extension": ".py",
   "mimetype": "text/x-python",
   "name": "python",
   "nbconvert_exporter": "python",
   "pygments_lexer": "ipython3",
   "version": "3.9.16"
  },
  "orig_nbformat": 4,
  "vscode": {
   "interpreter": {
    "hash": "bb7dd33ac9c885fe1234f3eb4941f14da61e9af3d755798103024168539c6fa3"
   }
  }
 },
 "nbformat": 4,
 "nbformat_minor": 2
}
